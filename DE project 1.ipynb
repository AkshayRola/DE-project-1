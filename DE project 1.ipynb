{
 "cells": [
  {
   "cell_type": "markdown",
   "id": "23e800c8",
   "metadata": {},
   "source": [
    "Install psycopg2 library. Used for interacting with postgresSql using pyhton script."
   ]
  },
  {
   "cell_type": "code",
   "execution_count": null,
   "id": "051d9470",
   "metadata": {
    "scrolled": false
   },
   "outputs": [],
   "source": [
    "!pip install psycopg2\n",
    "!pip install pandas"
   ]
  },
  {
   "cell_type": "markdown",
   "id": "5ba0711f",
   "metadata": {},
   "source": [
    "Import library to work on"
   ]
  },
  {
   "cell_type": "code",
   "execution_count": null,
   "id": "a423b7d9",
   "metadata": {},
   "outputs": [],
   "source": [
    "import psycopg2\n",
    "import pandas as pd"
   ]
  },
  {
   "cell_type": "markdown",
   "id": "a0f4dd41",
   "metadata": {},
   "source": [
    "Create connection with db and save in var for further use"
   ]
  },
  {
   "cell_type": "code",
   "execution_count": null,
   "id": "1fdacddd",
   "metadata": {},
   "outputs": [],
   "source": [
    "try:\n",
    "    conn = psycopg2.connect(\"host=localhost dbname=postgres user=postgres password=1234\")\n",
    "except psycopg2.Error as e:\n",
    "    print(\"Error: Could not make connection to the Postgres database\")\n",
    "    print(e)"
   ]
  },
  {
   "cell_type": "markdown",
   "id": "c4b756be",
   "metadata": {},
   "source": [
    "Use the connection to get a cursor that can be used to execute queries"
   ]
  },
  {
   "cell_type": "code",
   "execution_count": null,
   "id": "468da029",
   "metadata": {},
   "outputs": [],
   "source": [
    "try:\n",
    "    cur = conn.cursor()\n",
    "except psycopg2.Error as e:\n",
    "    print(e)"
   ]
  },
  {
   "cell_type": "markdown",
   "id": "c3f6cddc",
   "metadata": {},
   "source": [
    "Set automatic commit to be true so that each action is committed without having to call conn.commit() after each command"
   ]
  },
  {
   "cell_type": "code",
   "execution_count": null,
   "id": "108e2fb3",
   "metadata": {},
   "outputs": [],
   "source": [
    "conn.set_session(autocommit=True)"
   ]
  },
  {
   "cell_type": "markdown",
   "id": "05cfb219",
   "metadata": {},
   "source": [
    "Create a database"
   ]
  },
  {
   "cell_type": "code",
   "execution_count": null,
   "id": "c99763f2",
   "metadata": {},
   "outputs": [],
   "source": [
    "try: \n",
    "    cur.execute(\"create database datamodel_db1\")\n",
    "except psycopg2.Error as e:\n",
    "    print(e)"
   ]
  },
  {
   "cell_type": "markdown",
   "id": "bed65dd7",
   "metadata": {},
   "source": [
    "close the connection with previous db and make with new db."
   ]
  },
  {
   "cell_type": "code",
   "execution_count": null,
   "id": "ee6cfc71",
   "metadata": {},
   "outputs": [],
   "source": [
    "try:\n",
    "    conn.close()\n",
    "except psycopg2.Error as e:\n",
    "    print(e)\n",
    "    \n",
    "try:\n",
    "    conn = psycopg2.connect(\"host=localhost dbname=datamodel_db1 user=postgres password=1234\")\n",
    "except psycopg2.Error as e:\n",
    "    print(\"Error: Could not make connection to the Postgres database\")\n",
    "    print(e)\n",
    "    \n",
    "try:\n",
    "    cur = conn.cursor()\n",
    "except psycopg2.Error as e:\n",
    "    print(e)\n",
    "    \n",
    "conn.set_session(autocommit=True)"
   ]
  },
  {
   "cell_type": "markdown",
   "id": "e77426ad",
   "metadata": {},
   "source": [
    "Create Table for students which includes below columns\n",
    "student_id\n",
    "name\n",
    "age\n",
    "gender\n",
    "subject\n",
    "marks"
   ]
  },
  {
   "cell_type": "code",
   "execution_count": null,
   "id": "8e3686e4",
   "metadata": {},
   "outputs": [],
   "source": [
    "try:\n",
    "    cur.execute(\"create table if not exists students(student_id int,name varchar,\\\n",
    "    age int,gender varchar,subject varchar,marks int);\")\n",
    "except psycopg2.Error as e:\n",
    "    print(e) "
   ]
  },
  {
   "cell_type": "code",
   "execution_count": null,
   "id": "4fd892dc",
   "metadata": {},
   "outputs": [],
   "source": [
    "insert values. multiple ways to insert. like fetch each value from list using for loop also."
   ]
  },
  {
   "cell_type": "code",
   "execution_count": null,
   "id": "dfe8723f",
   "metadata": {},
   "outputs": [],
   "source": [
    "try:\n",
    "    data = [\n",
    "        (2, \"avi\", 20, \"Male\", \"Python\", 86),\n",
    "        (3, \"aks\", 24, \"Male\", \"Python\", 80),\n",
    "        (4, \"asif\", 24, \"Male\", \"Python\", 84),\n",
    "        (5, \"sourabh\", 23, \"Male\", \"Python\", 74)\n",
    "    ]\n",
    "    cur.executemany(\"INSERT INTO students (student_id, name, age, gender, subject, marks) \\\n",
    "                     VALUES (%s, %s, %s, %s, %s, %s)\", data)\n",
    "    \n",
    "'''sql = \"INSERT INTO students (student_id, name, age, gender, subject, marks) \\\n",
    "                     VALUES (%s, %s, %s, %s, %s, %s)\"\n",
    "\n",
    "for val in data :\n",
    "    cur.execute(sql,val)\n",
    "'''    \n",
    "    conn.commit()\n",
    "except psycopg2.Error as e:\n",
    "    print(e)\n"
   ]
  },
  {
   "cell_type": "code",
   "execution_count": null,
   "id": "a04131a0",
   "metadata": {},
   "outputs": [],
   "source": [
    "try:\n",
    "    cur.execute(\"select * from students;\")\n",
    "except psycopg2.Error as e: \n",
    "    print(\"Error: select *\")\n",
    "    print (e)\n",
    "    \n",
    "row = cur.fetchone()\n",
    "while row:\n",
    "    print(row)\n",
    "    row = cur.fetchone()    "
   ]
  },
  {
   "cell_type": "code",
   "execution_count": null,
   "id": "bb19ad3e",
   "metadata": {},
   "outputs": [],
   "source": [
    "cur.close()\n",
    "conn.close()"
   ]
  },
  {
   "cell_type": "code",
   "execution_count": null,
   "id": "23c08c0e",
   "metadata": {},
   "outputs": [],
   "source": []
  }
 ],
 "metadata": {
  "kernelspec": {
   "display_name": "Python 3 (ipykernel)",
   "language": "python",
   "name": "python3"
  },
  "language_info": {
   "codemirror_mode": {
    "name": "ipython",
    "version": 3
   },
   "file_extension": ".py",
   "mimetype": "text/x-python",
   "name": "python",
   "nbconvert_exporter": "python",
   "pygments_lexer": "ipython3",
   "version": "3.11.2"
  }
 },
 "nbformat": 4,
 "nbformat_minor": 5
}
