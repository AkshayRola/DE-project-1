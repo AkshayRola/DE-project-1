{
 "cells": [
  {
   "cell_type": "code",
   "execution_count": 1,
   "id": "d5238f0f",
   "metadata": {},
   "outputs": [],
   "source": [
    "import psycopg2\n",
    "import pandas as pd"
   ]
  },
  {
   "cell_type": "code",
   "execution_count": 2,
   "id": "5603dd0a",
   "metadata": {},
   "outputs": [],
   "source": [
    "def create_database():\n",
    "    conn = psycopg2.connect(\"host=localhost dbname=postgres user=postgres password=1234\")\n",
    "    conn.set_session(autocommit=True)\n",
    "    cur = conn.cursor()\n",
    "    conn.close()\n",
    "    cur.execute(\"DROP DATABASE wealth_acc\")\n",
    "    cur.execute(\"CREATE DATABASE wealth_acc\")\n",
    "    conn.close()\n",
    "    conn = psycopg2.connect(\"host=localhost dbname=wealth_acc user=postgres password=1234\")\n",
    "    cur = conn.cursor()\n",
    "    return conn,cur\n",
    "\n",
    "def db_connect():\n",
    "    conn = psycopg2.connect(\"host=localhost dbname=wealth_acc user=postgres password=1234\")\n",
    "    cur = conn.cursor()\n",
    "    return conn,cur"
   ]
  },
  {
   "cell_type": "code",
   "execution_count": 3,
   "id": "b0ed6695",
   "metadata": {},
   "outputs": [],
   "source": [
    "try :\n",
    "    acc_country = pd.read_csv(\"E:\\datasets\\Wealth_Acc\\Wealth-AccountsCountry.csv\")\n",
    "    acc_data = pd.read_csv(\"E:\\datasets\\Wealth_Acc\\Wealth-AccountData.csv\")\n",
    "    acc_series = pd.read_csv(\"E:\\datasets\\Wealth_Acc\\Wealth-AccountSeries.csv\")\n",
    "except pd.Error as e:\n",
    "    print(e)\n",
    " \n",
    "acc_country = acc_country[['Code','Short Name','Long Name','Currency Unit','Table Name']]\n",
    "acc_country.head()\n"
   ]
  },
  {
   "cell_type": "code",
   "execution_count": 4,
   "id": "fff102fb",
   "metadata": {},
   "outputs": [],
   "source": [
    "# acc_data.columns\n",
    "acc_data = acc_data[['Country Code','Country Name','Series Code','Series Name','1995 [YR1995]','2000 [YR2000]','2005 [YR2005]','2010 [YR2010]','2015 [YR2015]']]\n",
    "acc_data.head()"
   ]
  },
  {
   "cell_type": "code",
   "execution_count": 5,
   "id": "849d1963",
   "metadata": {
    "scrolled": true
   },
   "outputs": [],
   "source": [
    "acc_series = acc_series[['Code','Topic','Indicator Name', 'Long definition']]\n",
    "acc_series.head()"
   ]
  },
  {
   "cell_type": "code",
   "execution_count": 7,
   "id": "e1052a59",
   "metadata": {
    "scrolled": true
   },
   "outputs": [],
   "source": [
    "conn, cur = create_database()\n",
    "#conn, cur = db_connect()"
   ]
  },
  {
   "cell_type": "code",
   "execution_count": 8,
   "id": "27c5ec81",
   "metadata": {},
   "outputs": [],
   "source": [
    "cur.execute(\"DROP TABLE IF EXISTS accountscountry\")\n",
    "cur.execute(\"DROP TABLE IF EXISTS accountsdata\")\n",
    "cur.execute(\"DROP TABLE IF EXISTS accountsseries\")\n"
   ]
  },
  {
   "cell_type": "code",
   "execution_count": 9,
   "id": "7354bc50",
   "metadata": {},
   "outputs": [],
   "source": [
    "acc_country_tbl_creation = ('''CREATE TABLE IF NOT EXISTS accountscountry(\n",
    "country_code VARCHAR PRIMARY KEY,\n",
    "short_name VARCHAR,\n",
    "long_name VARCHAR,\n",
    "table_name VARCHAR,\n",
    "currency_unit VARCHAR)''')\n",
    "\n",
    "acc_data_tbl_creation = ('''CREATE TABLE IF NOT EXISTS accountsdata(\n",
    "Country_Code VARCHAR,\n",
    "Country_Name VARCHAR,\n",
    "Series_Code VARCHAR,\n",
    "Series_Name VARCHAR,\n",
    "YR1995 NUMERIC,\n",
    "YR2000 NUMERIC,\n",
    "YR2005 NUMERIC,\n",
    "YR2010 NUMERIC,\n",
    "YR2015 NUMERIC)''')\n",
    "\n",
    "acc_series_tbl_creation = ('''CREATE TABLE IF NOT EXISTS accountsseries(\n",
    "series_Code VARCHAR,\n",
    "Topic VARCHAR,\n",
    "Indicator_Name VARCHAR,\n",
    "Long_definition VARCHAR\n",
    ")''')"
   ]
  },
  {
   "cell_type": "code",
   "execution_count": 10,
   "id": "c5fe49c5",
   "metadata": {},
   "outputs": [],
   "source": [
    "cur.execute(acc_country_tbl_creation)\n",
    "cur.execute(acc_data_tbl_creation)\n",
    "cur.execute(acc_series_tbl_creation)\n",
    "conn.commit()\n"
   ]
  },
  {
   "cell_type": "code",
   "execution_count": 11,
   "id": "0c1b6f57",
   "metadata": {},
   "outputs": [],
   "source": [
    "acc_country_insert_script = ('''INSERT INTO accountscountry(\n",
    "country_code,\n",
    "short_name,\n",
    "long_name,\n",
    "table_name,\n",
    "currency_unit)\n",
    "VALUES (%s,%s,%s,%s,%s)\n",
    "''')\n",
    "\n",
    "acc_data_insert_script = ('''INSERT INTO accountsdata(\n",
    "Country_Code,\n",
    "Country_Name,\n",
    "Series_Code,\n",
    "Series_Name,\n",
    "YR1995,\n",
    "YR2000,\n",
    "YR2005,\n",
    "YR2010,\n",
    "YR2015)\n",
    "VALUES (%s,%s,%s,%s,%s,%s,%s,%s,%s)\n",
    "''')\n",
    "\n",
    "acc_series_insert_script = ('''INSERT INTO accountsseries(\n",
    "series_Code,\n",
    "Topic,\n",
    "Indicator_Name,\n",
    "Long_definition)\n",
    "VALUES (%s,%s,%s,%s)''')"
   ]
  },
  {
   "cell_type": "code",
   "execution_count": 12,
   "id": "debf5fda",
   "metadata": {},
   "outputs": [],
   "source": [
    "count =0\n",
    "for i,row in acc_country.iterrows():\n",
    "    #print(list(row))\n",
    "    #count += 1\n",
    "    #print(count)\n",
    "    cur.execute(acc_country_insert_script,list(row))\n",
    "\n",
    "for i,row in acc_data.iterrows():\n",
    "    cur.execute(acc_data_insert_script,list(row))\n",
    "    \n",
    "for i,row in acc_series.iterrows():\n",
    "    cur.execute(acc_series_insert_script,list(row))\n",
    "\n",
    "conn.commit()"
   ]
  },
  {
   "cell_type": "code",
   "execution_count": 23,
   "id": "5964a9c5",
   "metadata": {},
   "outputs": [],
   "source": [
    "cur.execute(\"SELECT * FROM accountscountry;\")\n",
    "rows = cur.fetchall()\n",
    "\n",
    "for row in rows:\n",
    "    print(row)\n",
    " \n",
    "conn.commit()"
   ]
  },
  {
   "cell_type": "code",
   "execution_count": 21,
   "id": "8aac7530",
   "metadata": {},
   "outputs": [],
   "source": [
    "cur.close()\n",
    "conn.close()"
   ]
  },
  {
   "cell_type": "code",
   "execution_count": null,
   "id": "0fea7fe3",
   "metadata": {},
   "outputs": [],
   "source": []
  }
 ],
 "metadata": {
  "kernelspec": {
   "display_name": "Python 3 (ipykernel)",
   "language": "python",
   "name": "python3"
  },
  "language_info": {
   "codemirror_mode": {
    "name": "ipython",
    "version": 3
   },
   "file_extension": ".py",
   "mimetype": "text/x-python",
   "name": "python",
   "nbconvert_exporter": "python",
   "pygments_lexer": "ipython3",
   "version": "3.11.2"
  }
 },
 "nbformat": 4,
 "nbformat_minor": 5
}
